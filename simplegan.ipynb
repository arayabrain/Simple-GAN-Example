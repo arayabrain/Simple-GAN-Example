{
 "cells": [
  {
   "cell_type": "code",
   "execution_count": 1,
   "metadata": {
    "collapsed": false
   },
   "outputs": [
    {
     "name": "stderr",
     "output_type": "stream",
     "text": [
      "WARNING: pylab import has clobbered these variables: ['cosh', 'ldexp', 'hypot', 'tan', 'isnan', 'log', 'fabs', 'floor', 'sqrt', 'frexp', 'degrees', 'pi', 'log10', 'sin', 'modf', 'copysign', 'cos', 'ceil', 'isinf', 'sinh', 'trunc', 'expm1', 'e', 'tanh', 'radians', 'fmod', 'exp', 'log1p', 'gamma']\n",
      "`%matplotlib` prevents importing * from pylab and numpy\n",
      "Using gpu device 0: GeForce GTX880M (CNMeM is disabled, cuDNN not available)"
     ]
    },
    {
     "name": "stdout",
     "output_type": "stream",
     "text": [
      "Populating the interactive namespace from numpy and matplotlib\n",
      "Couldn't import dot_parser, loading of dot files will not be possible.\n"
     ]
    },
    {
     "name": "stderr",
     "output_type": "stream",
     "text": [
      "\n"
     ]
    }
   ],
   "source": [
    "# Some boilerplate, loading Lasagne and other stuff\n",
    "\n",
    "import numpy as np\n",
    "import matplotlib.pyplot as plt\n",
    "from math import *\n",
    "%pylab inline\n",
    "\n",
    "import theano\n",
    "import theano.tensor as T\n",
    "\n",
    "from lasagne.utils import floatX\n",
    "\n",
    "import matplotlib\n",
    "import matplotlib.pyplot as plt\n",
    "\n",
    "import lasagne\n",
    "from lasagne.layers import batch_norm\n",
    "import sys\n",
    "import os\n",
    "\n",
    "from PIL import Image\n",
    "import scipy\n",
    "    \n",
    "np.random.seed(30)\n",
    "\n",
    "def leakyReLU(x):\n",
    "    return T.maximum(x,0.2*x)\n",
    "\n",
    "def invertNL(x):\n",
    "    return -x"
   ]
  },
  {
   "cell_type": "code",
   "execution_count": 2,
   "metadata": {
    "collapsed": false
   },
   "outputs": [
    {
     "data": {
      "image/png": "[encoded data removed]",
      "text/plain": [
       "<matplotlib.figure.Figure at 0x7fce383c9d90>"
      ]
     },
     "metadata": {},
     "output_type": "display_data"
    }
   ],
   "source": [
    "DIM = 2\n",
    "\n",
    "def sample():\n",
    "    z1 = np.random.randn()\n",
    "    z2 = np.random.randn()\n",
    "    z3 = np.random.randn()\n",
    "    z4 = np.random.randn()\n",
    "    \n",
    "    return np.array([(z1+z2)*cos(z2*(1-z2))+0.05*z3, (z1+2)*sin((z2-0.5)*(z2+0.5))+0.05*z4])\n",
    "\n",
    "# Make a bunch of samples to visualize the distribution\n",
    "train = np.zeros( (100000,DIM))\n",
    "for i in range(train.shape[0]):\n",
    "    train[i] = sample()\n",
    "\n",
    "plt.hist2d(train[:,0],train[:,1],200)\n",
    "plt.show()"
   ]
  },
  {
   "cell_type": "code",
   "execution_count": 3,
   "metadata": {
    "collapsed": false
   },
   "outputs": [],
   "source": [
    "# Define the GAN\n",
    "\n",
    "invar1 = T.matrix()\n",
    "invar2 = T.matrix()\n",
    "target = T.ivector()\n",
    "\n",
    "# Number of variables in the latent space\n",
    "CONTROLDIM = 4\n",
    "\n",
    "# Generator layer sizes\n",
    "N0 = 8\n",
    "N1 = 8\n",
    "N2 = 8\n",
    "N3 = 8\n",
    "N4 = 8\n",
    "\n",
    "# Discriminator layer sizes\n",
    "D1 = 64\n",
    "D2 = 64\n",
    "D3 = 64\n",
    "D4 = 64\n",
    "\n",
    "def build_model():\n",
    "    net = {}\n",
    "\n",
    "    # Generator\n",
    "    \n",
    "    net[\"gen_input\"] = lasagne.layers.InputLayer(shape=(None,CONTROLDIM), input_var = invar1 )\n",
    "\n",
    "    net[\"gen_layer1\"] = lasagne.layers.DenseLayer(incoming = net[\"gen_input\"], num_units = N0, nonlinearity = leakyReLU)\n",
    "    net[\"gen_layer2\"] = lasagne.layers.DenseLayer(incoming = net[\"gen_layer1\"], num_units = N1, nonlinearity = leakyReLU)\n",
    "    net[\"gen_layer3\"] = lasagne.layers.DenseLayer(incoming = net[\"gen_layer2\"], num_units = N2, nonlinearity = leakyReLU)\n",
    "    net[\"gen_layer4\"] = lasagne.layers.DenseLayer(incoming = net[\"gen_layer3\"], num_units = N3, nonlinearity = leakyReLU)\n",
    "    net[\"gen_layer5\"] = lasagne.layers.DenseLayer(incoming = net[\"gen_layer4\"], num_units = N4, nonlinearity = leakyReLU)\n",
    "\n",
    "    net[\"gen_dcg_out\"] = lasagne.layers.DenseLayer(incoming = net[\"gen_layer5\"], num_units = DIM, nonlinearity = None)\n",
    "    \n",
    "    # Discriminator \n",
    "    # This is the version that receives input from the generator\n",
    "    net[\"inline_disc_1\"] = lasagne.layers.DenseLayer(incoming = net[\"gen_dcg_out\"], num_units = D1, nonlinearity = leakyReLU)\n",
    "    net[\"inline_disc_2\"] = lasagne.layers.DenseLayer(incoming = net[\"inline_disc_1\"], num_units = D2, nonlinearity = leakyReLU)\n",
    "    net[\"inline_disc_3\"] = lasagne.layers.DenseLayer(incoming = net[\"inline_disc_2\"], num_units = D3, nonlinearity = leakyReLU)\n",
    "    net[\"inline_disc_4\"] = lasagne.layers.DenseLayer(incoming = net[\"inline_disc_3\"], num_units = D4, nonlinearity = leakyReLU)\n",
    "    net[\"inline_disc_output\"] = lasagne.layers.DenseLayer(incoming = net[\"inline_disc_4\"], num_units = 2, nonlinearity = lasagne.nonlinearities.softmax)\n",
    "    \n",
    "    # We need to make a separate copy of the network template so that we can feed it an input that isn't coming from the generator.\n",
    "    # All the weights are shared, so when we train one, we train the other too - its really all the same network\n",
    "    net[\"disc_input\"] = lasagne.layers.InputLayer(shape=(None,DIM), input_var = invar2 )\n",
    "    net[\"disc_1\"] = lasagne.layers.DenseLayer(incoming = net[\"disc_input\"], num_units = D1, nonlinearity = leakyReLU, W = net[\"inline_disc_1\"].W, b = net[\"inline_disc_1\"].b)\n",
    "    net[\"disc_2\"] = lasagne.layers.DenseLayer(incoming = net[\"disc_1\"], num_units = D2, nonlinearity = leakyReLU, W = net[\"inline_disc_2\"].W, b = net[\"inline_disc_2\"].b)\n",
    "    net[\"disc_3\"] = lasagne.layers.DenseLayer(incoming = net[\"disc_2\"], num_units = D3, nonlinearity = leakyReLU, W = net[\"inline_disc_3\"].W, b = net[\"inline_disc_3\"].b)\n",
    "    net[\"disc_4\"] = lasagne.layers.DenseLayer(incoming = net[\"disc_3\"], num_units = D4, nonlinearity = leakyReLU, W = net[\"inline_disc_4\"].W, b = net[\"inline_disc_4\"].b)\n",
    "    net[\"disc_output\"] = lasagne.layers.DenseLayer(incoming = net[\"disc_4\"], num_units = 2, nonlinearity = lasagne.nonlinearities.softmax, W = net[\"inline_disc_output\"].W, b = net[\"inline_disc_output\"].b)\n",
    "\n",
    "    net[\"inl_gen\"], net[\"inl_disc\"] = lasagne.layers.get_output( (net[\"gen_dcg_out\"], net[\"inline_disc_output\"]) )\n",
    "    net[\"ofl_disc\"] = lasagne.layers.get_output( (net[\"disc_output\"]) )\n",
    "\n",
    "    net[\"gan_params\"] = lasagne.layers.get_all_params( net[\"gen_dcg_out\"], trainable = True)\n",
    "    net[\"disc_params\"] = lasagne.layers.get_all_params( net[\"disc_output\"], trainable = True)\n",
    "\n",
    "    net[\"gen_loss\"] = T.mean(-T.log(net[\"inl_disc\"][:,1]+1e-16))\n",
    "    net[\"disc_loss\"] = lasagne.objectives.categorical_crossentropy(net[\"ofl_disc\"],target).mean()\n",
    "\n",
    "    net[\"updates_gen\"] = lasagne.updates.adam(net[\"gen_loss\"], net[\"gan_params\"], learning_rate = 5e-4, beta1=0.5)\n",
    "    net[\"updates_disc\"] = lasagne.updates.adam(net[\"disc_loss\"], net[\"disc_params\"], learning_rate = 1e-3, beta1 = 0.5)\n",
    "\n",
    "    net[\"train_gen\"] = theano.function([invar1], net[\"gen_loss\"], updates=net[\"updates_gen\"], allow_input_downcast = True)\n",
    "    net[\"train_disc\"] = theano.function([invar2,target], net[\"disc_loss\"], updates=net[\"updates_disc\"], allow_input_downcast = True)\n",
    "\n",
    "    net[\"process\"] = theano.function([invar2,target], net[\"disc_loss\"], allow_input_downcast = True)\n",
    "    net[\"gen_images\"] = theano.function([invar1], net[\"inl_gen\"], allow_input_downcast = True)\n",
    "    \n",
    "    return net\n",
    "\n",
    "net = build_model()"
   ]
  },
  {
   "cell_type": "code",
   "execution_count": 4,
   "metadata": {
    "collapsed": false
   },
   "outputs": [],
   "source": [
    "# Do batches of NEXAMPLES real, NEXAMPLES fake. \n",
    "# The batch size determines the degree to which the discriminator will care about low-density areas of the distribution\n",
    "NEXAMPLES = 1500\n",
    "HALFBATCH = 1500\n",
    "\n",
    "seeds = np.random.rand( NEXAMPLES, CONTROLDIM )*2-1\n",
    "\n",
    "def generateData(rinp):\n",
    "    data = net[\"gen_images\"](rinp)\n",
    "    \n",
    "    return data\n",
    "\n",
    "def trainEpoch(eidx):\n",
    "    for d_iter in range(10):\n",
    "        seeds = np.random.rand( NEXAMPLES, CONTROLDIM )*2-1\n",
    "        samples = np.zeros( (NEXAMPLES, DIM ))\n",
    "        for i in range(NEXAMPLES):\n",
    "            samples[i] = sample()\n",
    "                \n",
    "        data = generateData(seeds)\n",
    "\n",
    "        labels = np.zeros( 2*HALFBATCH )\n",
    "        labels[0:HALFBATCH] = 1\n",
    "        d_error = net[\"train_disc\"]( samples, labels[0:HALFBATCH] )/2.0\n",
    "        d_error += net[\"train_disc\"]( data , labels[HALFBATCH:] )/2.0\n",
    "    \n",
    "    seeds = np.random.rand( NEXAMPLES, CONTROLDIM )*2-1\n",
    "    gen_error = net[\"train_gen\"]( seeds )\n",
    "\n",
    "    if (eidx%10 == 0):\n",
    "        print \"%.6g,%.6g\" % (d_error, gen_error)\n",
    "\n",
    "def visualize(eidx, show=False):\n",
    "    seeds = np.random.rand( 100000, CONTROLDIM )*2-1\n",
    "    data = generateData(seeds)\n",
    "    plt.hist2d(data[:,0],data[:,1],150,range=[ [-3,3], [-3,4]])\n",
    "    plt.xlim(-3,3)\n",
    "    plt.ylim(-3,4)\n",
    "    if show:\n",
    "        plt.hist2d(train[:,0],train[:,1],100)\n",
    "        plt.show()\n",
    "    else:\n",
    "        plt.savefig(\"frames/%.6d.png\" % eidx) # Generate animation frames"
   ]
  },
  {
   "cell_type": "code",
   "execution_count": null,
   "metadata": {
    "collapsed": false
   },
   "outputs": [],
   "source": [
    "# Do 2000 batches\n",
    "for i in range(2000):\n",
    "    trainEpoch(i)\n",
    "    if i%10 == 0:\n",
    "        visualize(i)\n",
    "\n",
    "visualize(2000,show=True)"
   ]
  },
  {
   "cell_type": "code",
   "execution_count": null,
   "metadata": {
    "collapsed": false
   },
   "outputs": [],
   "source": [
    "# Visualize the map from latent variables to the output space by picking two latent dimensions and plotting out a grid.\n",
    "\n",
    "RES = 20\n",
    "\n",
    "for i in range(RES):\n",
    "    seeds = np.zeros( (RES, CONTROLDIM ))\n",
    "    \n",
    "    for j in range(seeds.shape[0]):\n",
    "        u = float(j)/float(RES)\n",
    "        v = float(i)/float(RES)\n",
    "        \n",
    "        seeds[j,:] = np.array([-1+2*v,0,-1+2*u,0]) \n",
    "\n",
    "    pts1 = net[\"gen_images\"](seeds)\n",
    "    plt.plot(pts1[:,0],pts1[:,1],'b-')\n",
    "\n",
    "for i in range(RES):\n",
    "    seeds = np.zeros( (RES, CONTROLDIM ))\n",
    "    \n",
    "    for j in range(seeds.shape[0]):\n",
    "        v = float(j)/float(RES)\n",
    "        u = float(i)/float(RES)\n",
    "        \n",
    "        seeds[j,:] = np.array([-1+2*v,0,-1+2*u,0]) \n",
    "\n",
    "    pts1 = net[\"gen_images\"](seeds)\n",
    "    plt.plot(pts1[:,0],pts1[:,1],'r-')\n",
    "\n",
    "plt.show()"
   ]
  },
  {
   "cell_type": "code",
   "execution_count": null,
   "metadata": {
    "collapsed": true
   },
   "outputs": [],
   "source": []
  }
 ],
 "metadata": {
  "kernelspec": {
   "display_name": "Python 2",
   "language": "python",
   "name": "python2"
  },
  "language_info": {
   "codemirror_mode": {
    "name": "ipython",
    "version": 2
   },
   "file_extension": ".py",
   "mimetype": "text/x-python",
   "name": "python",
   "nbconvert_exporter": "python",
   "pygments_lexer": "ipython2",
   "version": "2.7.10"
  }
 },
 "nbformat": 4,
 "nbformat_minor": 0
}
